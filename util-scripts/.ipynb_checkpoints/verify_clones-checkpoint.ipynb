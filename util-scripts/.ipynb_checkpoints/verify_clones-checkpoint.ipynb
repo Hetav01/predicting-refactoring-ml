{
 "cells": [
  {
   "cell_type": "code",
   "execution_count": 1,
   "metadata": {},
   "outputs": [],
   "source": [
    "import pandas as pd\n",
    "import numpy as np"
   ]
  },
  {
   "cell_type": "code",
   "execution_count": 2,
   "metadata": {},
   "outputs": [],
   "source": [
    "FILE_APACHE = '../data-collection/projects-apache.csv'\n",
    "FILE_FDROID = '../data-collection/projects-fdroid.csv'\n",
    "FILE_STARGAZERS = '../data-collection/projects-top-stargazers.csv'"
   ]
  },
  {
   "cell_type": "code",
   "execution_count": 3,
   "metadata": {},
   "outputs": [],
   "source": [
    "apache = pd.read_csv(FILE_APACHE,header=None)\n",
    "fdroid = pd.read_csv(FILE_FDROID,header=None)\n",
    "stargazers = pd.read_csv(FILE_STARGAZERS,header=None)"
   ]
  },
  {
   "cell_type": "code",
   "execution_count": 4,
   "metadata": {},
   "outputs": [],
   "source": [
    "apache[2] = 'apache'\n",
    "fdroid[2] = 'fdroid'\n",
    "stargazers[2] = 'top-stargazers'"
   ]
  },
  {
   "cell_type": "code",
   "execution_count": 5,
   "metadata": {},
   "outputs": [
    {
     "name": "stdout",
     "output_type": "stream",
     "text": [
      "**Before the change**\n",
      "# Apache: 860 \n",
      "# F-Droid: 1374 \n",
      "# Top Stargazers: 9983 \n",
      "= Totals: 12217\n"
     ]
    }
   ],
   "source": [
    "print(\"**Before the change**\")\n",
    "print(\"# Apache: {} \".format(len(apache)))\n",
    "print(\"# F-Droid: {} \".format(len(fdroid)))\n",
    "print(\"# Top Stargazers: {} \".format(len(stargazers)))\n",
    "print(\"= Totals: {}\".format(len(apache) + len(fdroid) + len(stargazers)))"
   ]
  },
  {
   "cell_type": "code",
   "execution_count": 6,
   "metadata": {},
   "outputs": [],
   "source": [
    "# union datasets\n",
    "dataset = apache.append(fdroid)\n",
    "dataset = dataset.append(stargazers)"
   ]
  },
  {
   "cell_type": "code",
   "execution_count": 7,
   "metadata": {},
   "outputs": [
    {
     "name": "stdout",
     "output_type": "stream",
     "text": [
      "**Before the change**\n",
      "= Totals: 12217\n"
     ]
    }
   ],
   "source": [
    "print(\"**Before the change**\")\n",
    "print(\"= Totals: {}\".format(len(dataset)))"
   ]
  },
  {
   "cell_type": "code",
   "execution_count": null,
   "metadata": {},
   "outputs": [],
   "source": []
  },
  {
   "cell_type": "code",
   "execution_count": 8,
   "metadata": {},
   "outputs": [
    {
     "name": "stdout",
     "output_type": "stream",
     "text": [
      "**Totals of duplicates**\n",
      "= Totals: 22\n"
     ]
    }
   ],
   "source": [
    "print(\"**Totals of duplicates**\")\n",
    "print(\"= Totals: {}\".format(len(dataset[dataset.duplicated()])))\n"
   ]
  },
  {
   "cell_type": "code",
   "execution_count": 9,
   "metadata": {},
   "outputs": [],
   "source": [
    "unique = dataset[dataset.duplicated() == False]"
   ]
  },
  {
   "cell_type": "code",
   "execution_count": 10,
   "metadata": {},
   "outputs": [
    {
     "name": "stdout",
     "output_type": "stream",
     "text": [
      "**After change**\n",
      "= Totals: 12195\n"
     ]
    }
   ],
   "source": [
    "print(\"**After change**\")\n",
    "print(\"= Totals: {}\".format(len(unique)))"
   ]
  },
  {
   "cell_type": "code",
   "execution_count": 13,
   "metadata": {},
   "outputs": [],
   "source": [
    "#save datasets news\n",
    "unique.to_csv('../data-collection/new/projects-all.csv',index=None,header=None)\n",
    "unique[unique[2] == 'apache'][[0,1]].to_csv('../data-collection/new/projects-apache.csv',index=None,header=None)\n",
    "unique[unique[2] == 'fdroid'][[0,1]].to_csv('../data-collection/new/projects-fdroid.csv',index=None,header=None)\n",
    "unique[unique[2] == 'top-stargazers'][[0,1]].to_csv('../data-collection/new/projects-top-stargazers.csv',index=None,header=None)"
   ]
  },
  {
   "cell_type": "code",
   "execution_count": null,
   "metadata": {},
   "outputs": [],
   "source": []
  },
  {
   "cell_type": "code",
   "execution_count": null,
   "metadata": {},
   "outputs": [],
   "source": []
  }
 ],
 "metadata": {
  "kernelspec": {
   "display_name": "Python 3",
   "language": "python",
   "name": "python3"
  },
  "language_info": {
   "codemirror_mode": {
    "name": "ipython",
    "version": 3
   },
   "file_extension": ".py",
   "mimetype": "text/x-python",
   "name": "python",
   "nbconvert_exporter": "python",
   "pygments_lexer": "ipython3",
   "version": "3.5.2"
  }
 },
 "nbformat": 4,
 "nbformat_minor": 2
}
