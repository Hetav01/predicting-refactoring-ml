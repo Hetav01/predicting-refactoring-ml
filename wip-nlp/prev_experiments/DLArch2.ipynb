{
 "cells": [
  {
   "cell_type": "markdown",
   "metadata": {},
   "source": [
    "# Deep Learning Arch #2\n",
    "## Embedding->CNN->LSTM->Dense"
   ]
  },
  {
   "cell_type": "code",
   "execution_count": 1,
   "metadata": {},
   "outputs": [
    {
     "name": "stderr",
     "output_type": "stream",
     "text": [
      "Using TensorFlow backend.\n"
     ]
    },
    {
     "data": {
      "text/plain": [
       "131072"
      ]
     },
     "execution_count": 1,
     "metadata": {},
     "output_type": "execute_result"
    }
   ],
   "source": [
    "from keras.layers import Embedding, Dense, Flatten, LSTM, Conv1D, MaxPooling1D, Dropout, Activation, SpatialDropout1D\n",
    "from keras.models import Sequential\n",
    "from keras.callbacks import EarlyStopping\n",
    "from keras.preprocessing.text import one_hot\n",
    "from keras.utils import to_categorical\n",
    "from keras.preprocessing.sequence import pad_sequences\n",
    "from sklearn.preprocessing import LabelEncoder\n",
    "from sklearn.model_selection import train_test_split\n",
    "\n",
    "import pandas as pd\n",
    "import numpy as np\n",
    "import os\n",
    "import csv \n",
    "import sys\n",
    "import re\n",
    "import scipy\n",
    "import numpy as np\n",
    "\n",
    "csv.field_size_limit(sys.maxsize)"
   ]
  },
  {
   "cell_type": "code",
   "execution_count": 2,
   "metadata": {},
   "outputs": [],
   "source": [
    "def find_vocab_size(trainset):\n",
    "    vocab = {}\n",
    "    max_length = 0\n",
    "    for instance in trainset:\n",
    "        tokens = instance.split()\n",
    "\n",
    "        if len(tokens) > max_length:\n",
    "            max_length = len(tokens)\n",
    "\n",
    "        for token in tokens:\n",
    "            if token in vocab:\n",
    "                vocab[token] += 1\n",
    "            else:\n",
    "                vocab[token] = 0\n",
    "\n",
    "    return vocab, max_length"
   ]
  },
  {
   "cell_type": "code",
   "execution_count": 3,
   "metadata": {},
   "outputs": [],
   "source": [
    "callback_list = []\n",
    "callback_list.append(EarlyStopping(monitor='val_loss',\n",
    "                                   min_delta=0,\n",
    "                                   patience=2,\n",
    "                                   verbose=0,\n",
    "                                   mode='auto'))"
   ]
  },
  {
   "cell_type": "code",
   "execution_count": 4,
   "metadata": {},
   "outputs": [
    {
     "name": "stdout",
     "output_type": "stream",
     "text": [
      "CURRENT DOMAIN: apache\n",
      "Dataframe shape:  (46341, 3)\n",
      "CURRENT DOMAIN: fdroid\n",
      "Dataframe shape:  (20286, 3)\n",
      "CURRENT DOMAIN: github\n",
      "Dataframe shape:  (62771, 3)\n"
     ]
    }
   ],
   "source": [
    "df_all = pd.read_pickle('../../train_data_ASTC.pkl')\n",
    "\n",
    "domains = ['apache', 'fdroid', 'github']\n",
    "for domain in domains:\n",
    "    print(\"CURRENT DOMAIN: {}\".format(domain))\n",
    "    df = df_all[df_all['domain'] == domain]\n",
    "    print(\"Dataframe shape: \", df.shape)\n",
    "    \n",
    "    "
   ]
  },
  {
   "cell_type": "code",
   "execution_count": 8,
   "metadata": {
    "scrolled": true
   },
   "outputs": [
    {
     "data": {
      "text/plain": [
       "'package isPackage ;  import isImport ; import isImport ; import isImport ; import isImport ; import isImport ; import isImport ; import isImport ; import isImport ; import isImport ; import isImport ; import isImport ; import isImport ; import isImport ; import isImport ; import isImport ; import isImport ;  /** * isComment */ public class isClassOrIsInterface extends isClassOrInterfaceInstantiation {  /** * isComment */ private int isVariable ;  /** * isComment */ private int isVariable ;  /** * isComment */ private float isVariable = isDoubleConstant ;  /** * isComment */ private float isVariable = isDoubleConstant ;  /** * isComment */ private float isVariable = isDoubleConstant ;  /** * isComment */ private int isVariable ;  /** * isComment */ private int isVariable = isNameExpr . isMethod (\" isStringConstant \");  /** * isComment */ private int isVariable = isNameExpr . isMethod (\" isStringConstant \");  /** * isComment */ private int isVariable = isNameExpr . isFieldAccessExpr ;  /** * isComment */ private int isVariable = isIntegerConstant ;  /** * isComment */ private int isVariable = isIntegerConstant ;  /** * isComment */ private float isVariable = isDoubleConstant ;  /** * isComment */ private float isVariable = isDoubleConstant ;  /** * isComment */ private float isVariable = isIntegerConstant ;  /** * isComment */ private int isVariable = isNameExpr . isFieldAccessExpr ;  /** * isComment */ private int isVariable = isIntegerConstant ;  /** * isComment */ private int isVariable = isIntegerConstant ;  /** * isComment */ private int isVariable = isNameExpr . isMethod (\" isStringConstant \");  /** * isComment */ private int isVariable = isNameExpr . isMethod (\" isStringConstant \");  /** * isComment */ private int isVariable = isNameExpr . isMethod (\" isStringConstant \");  /** * isComment */ private isClassOrInterfaceInstantiation isVariable = isNameExpr . isFieldAccessExpr ;  /** * isComment */ private boolean isVariable ;  /** * isComment */ private isClassOrInterfaceInstantiation < isClassOrInterfaceInstantiation > isVariable ;  /** * isComment */ private boolean isVariable ;  /** * isComment */ private int isVariable = isNameExpr . isFieldAccessExpr ;  /** * isComment */ private float isVariable = isDoubleConstant ;  /** * isComment */ private isClassOrInterfaceInstantiation . isClassOrInterfaceInstantiation isVariable ;  private isClassOrInterfaceInstantiation isVariable ;  private isClassOrInterfaceInstantiation isVariable ;  private isClassOrInterfaceInstantiation isVariable ;  private isClassOrInterfaceInstantiation < isClassOrInterfaceInstantiation > isVariable ;  private int [] isVariable ;  /** * isComment */ private int isVariable = isNameExpr . isFieldAccessExpr ;  /** * isComment */ private static final float isVariable = isIntegerConstant ;  /** * isComment */ private static final int isVariable = isIntegerConstant ;  /** * isComment */ private int isVariable = isIntegerConstant ;  /** * isComment */ private int isVariable ;  /** * isComment */ private int isVariable = isIntegerConstant ;  /** * isComment */ private boolean isVariable = true ;  /** * isComment */ private float isVariable = isDoubleConstant ;  /** * isComment */ private float isVariable = isDoubleConstant ;  /** * isComment */ private int isVariable = isNameExpr . isFieldAccessExpr ;  /** * isComment */ private float isVariable = isDoubleConstant ;  public isConstructor ( isClassOrInterfaceInstantiation isParameter ) { this ( isNameExpr , null ); }  public isConstructor ( isClassOrInterfaceInstantiation isParameter , isClassOrInterfaceInstantiation isParameter ) { this ( isNameExpr , isNameExpr , isIntegerConstant ); }  public isConstructor ( isClassOrInterfaceInstantiation isParameter , isClassOrInterfaceInstantiation isParameter , int isParameter ) { super ( isNameExpr , isNameExpr , isNameExpr ); isMethod ( isNameExpr , isNameExpr , isNameExpr ); }  private void isMethod ( isClassOrInterfaceInstantiation isParameter , isClassOrInterfaceInstantiation isParameter , int isParameter ) { isClassOrInterfaceInstantiation isVariable = isNameExpr . isMethod ( isNameExpr , isNameExpr . isFieldAccessExpr . isFieldAccessExpr , isNameExpr , isIntegerConstant ); isNameExpr = ( int ) isNameExpr . isMethod ( isNameExpr . isFieldAccessExpr . isFieldAccessExpr , isMethod ( isNameExpr , isNameExpr )); isNameExpr = ( int ) isNameExpr . isMethod ( isNameExpr . isFieldAccessExpr . isFieldAccessExpr , isMethod ( isNameExpr , isNameExpr )); isNameExpr = isNameExpr . isMethod ( isNameExpr . isFieldAccessExpr . isFieldAccessExpr , isMethod ( isNameExpr , isNameExpr )); isNameExpr = isNameExpr . isMethod ( isNameExpr . isFieldAccessExpr . isFieldAccessExpr , isMethod ( isNameExpr , isNameExpr )); isNameExpr = isNameExpr . isMethod ( isNameExpr . isFieldAccessExpr . isFieldAccessExpr , isNameExpr ); isNameExpr = isNameExpr . isMethod ( isNameExpr . isFieldAccessExpr . isFieldAccessExpr , isNameExpr ); isNameExpr = isNameExpr . isMethod ( isNameExpr . isFieldAccessExpr . isFieldAccessExpr , isNameExpr ); isNameExpr = isNameExpr . isMethod ( isNameExpr . isFieldAccessExpr . isFieldAccessExpr , true ); isNameExpr = isNameExpr . isMethod ( isNameExpr . isFieldAccessExpr . isFieldAccessExpr , isNameExpr ); isNameExpr = isNameExpr . isMethod ( isNameExpr . isFieldAccessExpr . isFieldAccessExpr , isNameExpr ); isNameExpr = isNameExpr . isMethod ( isNameExpr . isFieldAccessExpr . isFieldAccessExpr , isNameExpr ); isNameExpr = isNameExpr . isMethod ( isNameExpr . isFieldAccessExpr . isFieldAccessExpr , isNameExpr ); isNameExpr = isNameExpr . isMethod ( isNameExpr . isFieldAccessExpr . isFieldAccessExpr , isNameExpr ); isNameExpr = isNameExpr . isMethod ( isNameExpr . isFieldAccessExpr . isFieldAccessExpr , isMethod ( isNameExpr , isNameExpr )); isNameExpr = isNameExpr . isMethod ( isNameExpr . isFieldAccessExpr . isFieldAccessExpr , isMethod ( isNameExpr , isNameExpr )); isNameExpr = ( int ) isNameExpr . isMethod ( isNameExpr . isFieldAccessExpr . isFieldAccessExpr , isNameExpr ); isNameExpr = ( int ) isNameExpr . isMethod ( isNameExpr . isFieldAccessExpr . isFieldAccessExpr , isNameExpr ); isNameExpr = isNameExpr . isMethod ( isNameExpr . isFieldAccessExpr . isFieldAccessExpr , isMethod ( isNameExpr , isNameExpr )); isNameExpr = isNameExpr . isMethod ( isNameExpr . isFieldAccessExpr . isFieldAccessExpr , isNameExpr ); isNameExpr = isNameExpr . isMethod ( isNameExpr . isFieldAccessExpr . isFieldAccessExpr , isNameExpr ); isNameExpr = isNameExpr . isMethod ( isNameExpr . isFieldAccessExpr . isFieldAccessExpr , isNameExpr ); isNameExpr = isNameExpr . isMethod ( isNameExpr . isFieldAccessExpr . isFieldAccessExpr , isNameExpr ); isNameExpr = isNameExpr . isMethod ( isNameExpr . isFieldAccessExpr . isFieldAccessExpr , true ); isNameExpr = isNameExpr . isMethod ( isNameExpr . isFieldAccessExpr . isFieldAccessExpr , isNameExpr . isMethod (\" isStringConstant \")); isNameExpr = isNameExpr . isMethod ( isNameExpr . isFieldAccessExpr . isFieldAccessExpr , isNameExpr ); isNameExpr = isNameExpr . isMethod ( isNameExpr . isFieldAccessExpr . isFieldAccessExpr , isNameExpr ); isNameExpr = isNameExpr . isMethod ( isNameExpr . isFieldAccessExpr . isFieldAccessExpr , isNameExpr ); isNameExpr = isNameExpr . isMethod ( isNameExpr . isFieldAccessExpr . isFieldAccessExpr , isMethod ( isNameExpr , isNameExpr )); isNameExpr = isNameExpr . isMethod ( isNameExpr . isFieldAccessExpr . isFieldAccessExpr , isMethod ( isNameExpr , isNameExpr )); isNameExpr = isNameExpr . isMethod ( isNameExpr . isFieldAccessExpr . isFieldAccessExpr , isNameExpr ); isNameExpr = isNameExpr . isMethod ( isNameExpr . isFieldAccessExpr . isFieldAccessExpr , isMethod ( isNameExpr , isNameExpr )); isNameExpr . isMethod (); isNameExpr = new isClassOrInterfaceInstantiation ( isNameExpr . isFieldAccessExpr ); isNameExpr = new isClassOrInterfaceInstantiation (); isNameExpr = new isClassOrInterfaceInstantiation < isClassOrInterfaceInstantiation >(); isNameExpr = isNameExpr . isMethod ( this , isNameExpr , new isClassOrInterfaceInstantiation ()); isMethod ( true ); isMethod ( isNameExpr ); isMethod ( isNameExpr ); isMethod ( isNameExpr ); if ( isMethod ()) { isMethod (\" isStringConstant \"); } }  @ Override protected void isMethod ( int isParameter , int isParameter ) { super . isMethod ( isNameExpr , isNameExpr ); isMethod ( isNameExpr , isNameExpr ); final int isVariable = isMethod (); int isVariable = isNameExpr == isIntegerConstant ? isIntegerConstant : isMethod ( isNameExpr ); int isVariable = isNameExpr . isMethod ( isNameExpr ); int isVariable = isNameExpr . isMethod ( isNameExpr ); int isVariable = isNameExpr . isMethod ( isNameExpr ); if ( isNameExpr == isIntegerConstant ) { isMethod ( isIntegerConstant , isIntegerConstant ); } else if ( isNameExpr == isNameExpr . isFieldAccessExpr || isNameExpr == isNameExpr . isFieldAccessExpr ) { isMethod ( isNameExpr , ( isNameExpr + isNameExpr ) * isNameExpr - isNameExpr + isMethod () + isMethod ()); } else { isMethod ( isNameExpr , isNameExpr ); } }  @ Override protected void isMethod ( int isParameter , int isParameter , int isParameter , int isParameter ) { super . isMethod ( isNameExpr , isNameExpr , isNameExpr , isNameExpr ); isNameExpr . isMethod ( isIntegerConstant , isIntegerConstant , isNameExpr , isNameExpr ); }  @ Override protected void isMethod ( boolean isParameter , int isParameter , int isParameter , int isParameter , int isParameter ) { int isVariable ; if (( isNameExpr = isMethod ()) <= isIntegerConstant ) { return ; } int isVariable = isMethod () - isMethod () - isMethod (); int isVariable = isMethod () - isMethod (); int isVariable = isMethod (); int isVariable = isMethod (); int isVariable = isIntegerConstant ; isNameExpr = new int [ isNameExpr * isIntegerConstant ]; for ( int isVariable = isIntegerConstant ; isNameExpr < isNameExpr ; isNameExpr ++) { final isClassOrInterfaceInstantiation isVariable = isMethod ( isNameExpr ); if ( isNameExpr . isMethod () != isNameExpr ) { int isVariable = isNameExpr . isMethod (); if ( isNameExpr == isNameExpr . isFieldAccessExpr ) { if ( isNameExpr - isNameExpr < isMethod ()) { isNameExpr = isMethod () - isMethod (); isNameExpr += isNameExpr + isNameExpr ; } isNameExpr [ isNameExpr * isIntegerConstant ] = isNameExpr - isNameExpr ; isNameExpr [ isNameExpr * isIntegerConstant + isIntegerConstant ] = isNameExpr ; isNameExpr -= isNameExpr + isNameExpr ; } else if ( isNameExpr == isNameExpr . isFieldAccessExpr ) { if ( isNameExpr + isNameExpr - isMethod () > isNameExpr ) { int isVariable = isMethod () - isNameExpr [( isNameExpr - isIntegerConstant ) * isIntegerConstant ] - isMethod ( isNameExpr - isIntegerConstant ). isMethod () - isMethod (); for ( int isVariable = isNameExpr ; isNameExpr < isNameExpr ; isNameExpr ++) { isNameExpr [ isNameExpr * isIntegerConstant ] = isNameExpr [ isNameExpr * isIntegerConstant ] + isNameExpr / isIntegerConstant ; } isNameExpr = isNameExpr ; isNameExpr = isMethod (); isNameExpr += isNameExpr + isNameExpr ; } isNameExpr [ isNameExpr * isIntegerConstant ] = isNameExpr ; isNameExpr [ isNameExpr * isIntegerConstant + isIntegerConstant ] = isNameExpr ; isNameExpr += isNameExpr + isNameExpr ; if ( isNameExpr == isNameExpr - isIntegerConstant ) { int isVariable = isMethod () - isNameExpr [ isNameExpr * isIntegerConstant ] - isNameExpr . isMethod () - isMethod (); for ( int isVariable = isNameExpr ; isNameExpr < isNameExpr ; isNameExpr ++) { isNameExpr [ isNameExpr * isIntegerConstant ] = isNameExpr [ isNameExpr * isIntegerConstant ] + isNameExpr / isIntegerConstant ; } } } else { if ( isNameExpr + isNameExpr - isMethod () > isNameExpr ) { isNameExpr = isMethod (); isNameExpr += isNameExpr + isNameExpr ; } isNameExpr [ isNameExpr * isIntegerConstant ] = isNameExpr ; isNameExpr [ isNameExpr * isIntegerConstant + isIntegerConstant ] = isNameExpr ; isNameExpr += isNameExpr + isNameExpr ; } } } for ( int isVariable = isIntegerConstant ; isNameExpr < isNameExpr . isFieldAccessExpr / isIntegerConstant ; isNameExpr ++) { isClassOrInterfaceInstantiation isVariable = isMethod ( isNameExpr ); isNameExpr . isMethod ( isNameExpr [ isNameExpr * isIntegerConstant ], isNameExpr [ isNameExpr * isIntegerConstant + isIntegerConstant ], isNameExpr [ isNameExpr * isIntegerConstant ] + isNameExpr . isMethod (), isNameExpr [ isNameExpr * isIntegerConstant + isIntegerConstant ] + isNameExpr ); } }  @ Override protected void isMethod ( isClassOrInterfaceInstantiation isParameter ) { super . isMethod ( isNameExpr ); isNameExpr . isMethod ( isNameExpr . isFieldAccessExpr . isFieldAccessExpr ); isNameExpr . isMethod ( isNameExpr ); isNameExpr . isMethod ( isNameExpr , isNameExpr , isNameExpr , isNameExpr ); isNameExpr . isMethod ( isNameExpr . isFieldAccessExpr . isFieldAccessExpr ); isNameExpr . isMethod ( isNameExpr ); isNameExpr . isMethod ( isNameExpr ); isNameExpr . isMethod ( isNameExpr , isNameExpr , isNameExpr , isNameExpr ); }  @ Override public boolean isMethod ( isClassOrInterfaceInstantiation isParameter ) { return isNameExpr . isMethod ( isNameExpr ); }  @ Override public boolean isMethod ( isClassOrInterfaceInstantiation isParameter ) { isNameExpr . isMethod ( isNameExpr ); return true ; }  @ Override public void isMethod () { super . isMethod (); if ( isNameExpr . isMethod ( true )) { isMethod (); } }  private int isMethod ( int isParameter ) { int isVariable = isMethod () - isMethod () - isMethod (); int isVariable = isIntegerConstant ; for ( int isVariable = isIntegerConstant , isVariable = isIntegerConstant ; isNameExpr < isNameExpr ; isNameExpr ++) { isClassOrInterfaceInstantiation isVariable = isMethod ( isNameExpr ); int isVariable = isNameExpr . isMethod () + isNameExpr ; int isVariable = isNameExpr . isMethod (); isNameExpr = isNameExpr == isIntegerConstant ? isNameExpr : isNameExpr . isMethod ( isNameExpr , isNameExpr ); isNameExpr += isNameExpr ; if ( isNameExpr - isNameExpr > isNameExpr ) { isNameExpr ++; isNameExpr = isNameExpr ; } } return isNameExpr <= isIntegerConstant ? isNameExpr : isNameExpr ; }  private int [] isMethod () { int [] isVariable ; if ( isNameExpr == isNameExpr . isFieldAccessExpr ) { isNameExpr = isNameExpr . isMethod (); } else if ( isNameExpr == isNameExpr . isFieldAccessExpr ) { isNameExpr = isNameExpr . isMethod ( isNameExpr . isFieldAccessExpr . isFieldAccessExpr ); } else if ( isNameExpr == isNameExpr . isFieldAccessExpr ) { isNameExpr = isNameExpr . isMethod ( isNameExpr . isFieldAccessExpr . isFieldAccessExpr ); } else { isNameExpr = new int [] { isNameExpr , isNameExpr , isNameExpr }; } return isNameExpr ; }  private void isMethod () { if ( isNameExpr == null ) { throw new isClassOrInterfaceInstantiation (\" isStringConstant \"); } isMethod (); if ( isNameExpr . isMethod () == isIntegerConstant ) { return ; } for ( int isVariable = isIntegerConstant ; isNameExpr < isNameExpr . isMethod (); isNameExpr ++) { isMethod ( isNameExpr . isMethod ( isNameExpr ), isNameExpr . isMethod ()); } isMethod (); }  private void isMethod ( isClassOrInterfaceInstantiation isParameter , int isParameter ) { if ( isNameExpr < isIntegerConstant || isNameExpr > isNameExpr . isMethod ()) { throw new isClassOrInterfaceInstantiation (\" isStringConstant \"); } isClassOrInterfaceInstantiation isVariable = new isClassOrInterfaceInstantiation ( isMethod (), isNameExpr ); isMethod ( isNameExpr ); isNameExpr . isMethod ( isNameExpr , isNameExpr ); if ( isNameExpr < isNameExpr . isMethod ()) { for ( int isVariable = isNameExpr ; isNameExpr < isNameExpr . isMethod (); isNameExpr ++) { isNameExpr . isMethod ( isNameExpr ). isMethod ( isNameExpr ); } } else { isNameExpr . isMethod ( isNameExpr ); } isMethod ( isNameExpr , isNameExpr ); }  private void isMethod ( isClassOrInterfaceInstantiation isParameter ) { int [] isVariable = isMethod (); isNameExpr . isMethod ( isNameExpr [ isIntegerConstant ]); isNameExpr . isMethod ( isNameExpr [ isIntegerConstant ]); isNameExpr . isMethod ( isNameExpr [ isIntegerConstant ]); isNameExpr . isMethod ( isNameExpr ); isNameExpr . isMethod ( isNameExpr ); isNameExpr . isMethod ( isNameExpr ); isNameExpr . isMethod ( isNameExpr ); isNameExpr . isMethod ( isNameExpr ); isNameExpr . isMethod ( isNameExpr ); isNameExpr . isMethod ( isNameExpr ); isNameExpr . isMethod ( isNameExpr ); isNameExpr . isMethod ( isNameExpr ); isNameExpr . isMethod ( isNameExpr ); isNameExpr . isMethod ( isNameExpr ); isNameExpr . isMethod ( isNameExpr ); isNameExpr . isMethod ( isNameExpr ); isNameExpr . isMethod ( isNameExpr ); isNameExpr . isMethod ( isNameExpr ); isNameExpr . isMethod ( isNameExpr ); isNameExpr . isMethod ( isNameExpr ); isNameExpr . isMethod ( isNameExpr ); isNameExpr . isMethod ( isNameExpr ); }  private void isMethod () { for ( isClassOrInterfaceInstantiation isVariable : isNameExpr ) { final isClassOrInterfaceInstantiation isVariable = ( isClassOrInterfaceInstantiation ) isNameExpr ; isNameExpr . isMethod ( isNameExpr ); } }  private void isMethod ( int isParameter ) { if ( isNameExpr < isIntegerConstant || isNameExpr >= isNameExpr . isMethod ()) { throw new isClassOrInterfaceInstantiation (\" isStringConstant \"); } isNameExpr . isMethod ( isNameExpr ); isMethod ( isNameExpr ); for ( int isVariable = isNameExpr ; isNameExpr < isNameExpr . isMethod (); isNameExpr ++) { isNameExpr . isMethod ( isNameExpr ). isMethod ( isNameExpr ); } }  private int [] isMethod ( isClassOrInterfaceInstantiation isParameter ) { int isVariable = isNameExpr . isMethod (); int isVariable = isNameExpr . isMethod (); int isVariable = isNameExpr [( int ) isNameExpr . isMethod () * isIntegerConstant ]; int isVariable = isNameExpr [( int ) isNameExpr . isMethod () * isIntegerConstant + isIntegerConstant ]; int isVariable = isNameExpr . isMethod ( isNameExpr - isNameExpr ); for ( int isVariable = isIntegerConstant ; isNameExpr < isNameExpr . isFieldAccessExpr / isIntegerConstant ; isNameExpr ++) { if ( isNameExpr . isMethod ( isNameExpr - isNameExpr [ isNameExpr * isIntegerConstant + isIntegerConstant ]) < isNameExpr ) { isNameExpr = isNameExpr [ isNameExpr * isIntegerConstant + isIntegerConstant ]; isNameExpr = isNameExpr . isMethod ( isNameExpr - isNameExpr [ isNameExpr * isIntegerConstant + isIntegerConstant ]); } } int isVariable = isIntegerConstant ; int isVariable = isIntegerConstant ; for ( int isVariable = isIntegerConstant ; isNameExpr < isNameExpr . isFieldAccessExpr / isIntegerConstant ; isNameExpr ++) { if ( isNameExpr [ isNameExpr * isIntegerConstant + isIntegerConstant ] == isNameExpr ) { if ( isNameExpr == isIntegerConstant ) { isNameExpr = isNameExpr [ isNameExpr * isIntegerConstant ]; isNameExpr = isNameExpr . isMethod ( isNameExpr - isNameExpr ); } else { if ( isNameExpr . isMethod ( isNameExpr - isNameExpr [ isNameExpr * isIntegerConstant ]) < isNameExpr ) { isNameExpr = isNameExpr [ isNameExpr * isIntegerConstant ]; isNameExpr = isNameExpr . isMethod ( isNameExpr - isNameExpr ); } } isNameExpr ++; } } return new int [] { isNameExpr , isNameExpr }; }  private int isMethod ( int isParameter , int isParameter ) { int isVariable = isIntegerConstant ; for ( int isVariable = isIntegerConstant ; isNameExpr < isNameExpr . isFieldAccessExpr / isIntegerConstant ; isNameExpr ++) { if ( isNameExpr == isNameExpr [ isNameExpr * isIntegerConstant ] && isNameExpr == isNameExpr [ isNameExpr * isIntegerConstant + isIntegerConstant ]) { isNameExpr = isNameExpr ; } } return isNameExpr ; }  private void isMethod ( isClassOrInterfaceInstantiation isParameter , int isParameter , int isParameter ) { isNameExpr . isMethod ( isNameExpr ); isNameExpr . isMethod ( isNameExpr , isNameExpr ); for ( isClassOrInterfaceInstantiation isVariable : isNameExpr ) { isNameExpr . isMethod ( isNameExpr . isMethod ( isNameExpr )); } isMethod ( isNameExpr ); isMethod ( isNameExpr , isNameExpr ); }  private int isMethod () { return ( int ) isNameExpr . isMethod ( isNameExpr ); }  private class isClassOrIsInterface extends isClassOrInterfaceInstantiation . isClassOrInterfaceInstantiation {  @ Override public void isMethod ( int isParameter ) { super . isMethod ( isNameExpr ); isNameExpr = isNameExpr ; }  @ Override public boolean isMethod ( isClassOrInterfaceInstantiation isParameter , int isParameter ) { isMethod ( true ); return isNameExpr ; }  @ Override public int isMethod ( isClassOrInterfaceInstantiation isParameter , int isParameter , int isParameter ) { final int isVariable = isMethod (); final int isVariable = isMethod () - isNameExpr . isMethod () - isMethod (); return isNameExpr . isMethod ( isNameExpr . isMethod ( isNameExpr , isNameExpr ), isNameExpr ); }  @ Override public int isMethod ( isClassOrInterfaceInstantiation isParameter , int isParameter , int isParameter ) { final int isVariable = isMethod (); final int isVariable = isMethod () - isNameExpr . isMethod () - isMethod (); return isNameExpr . isMethod ( isNameExpr . isMethod ( isNameExpr , isNameExpr ), isNameExpr ); }  @ Override public int isMethod ( isClassOrInterfaceInstantiation isParameter ) { return isMethod () - isNameExpr . isMethod (); }  @ Override public int isMethod ( isClassOrInterfaceInstantiation isParameter ) { return isMethod () - isNameExpr . isMethod (); }  @ Override public void isMethod ( isClassOrInterfaceInstantiation isParameter , float isParameter , float isParameter ) { super . isMethod ( isNameExpr , isNameExpr , isNameExpr ); isMethod ( true ); int [] isVariable = isMethod ( isNameExpr ); int isVariable = isMethod ( isNameExpr [ isIntegerConstant ], isNameExpr [ isIntegerConstant ]); isMethod ( isNameExpr , isNameExpr , ( int ) isNameExpr . isMethod ()); isNameExpr . isMethod ( isNameExpr [ isIntegerConstant ], isNameExpr [ isIntegerConstant ]); isMethod (); } }  /** * isComment */ public int isMethod () { return isNameExpr ; }  /** * isComment */ public float isMethod () { return isNameExpr ; }  /** * isComment */ public void isMethod ( float isParameter ) { this . isFieldAccessExpr = isMethod ( isMethod (), isNameExpr ); }  /** * isComment */ public void isMethod ( isClassOrInterfaceInstantiation < isClassOrInterfaceInstantiation > isParameter ) { isNameExpr = isNameExpr ; isMethod (); }  /** * isComment */ public void isMethod ( isClassOrInterfaceInstantiation ... isParameter ) { isNameExpr = isNameExpr . isMethod ( isNameExpr ); isMethod (); }  /** * isComment */ public void isMethod ( isClassOrInterfaceInstantiation isParameter ) { isMethod ( isNameExpr , isNameExpr . isMethod ()); }  /** * isComment */ public void isMethod ( isClassOrInterfaceInstantiation isParameter , int isParameter ) { isMethod ( isNameExpr , isNameExpr ); isMethod (); }  /** * isComment */ public void isMethod ( int isParameter ) { isMethod ( isNameExpr ); isMethod (); }  /** * isComment */ public void isMethod () { isNameExpr . isMethod (); isMethod (); isMethod (); }  /** * isComment */ public void isMethod ( isClassOrInterfaceInstantiation . isClassOrInterfaceInstantiation isParameter ) { isNameExpr = isNameExpr ; isMethod (); }  /** * isComment */ public isClassOrInterfaceInstantiation isMethod ( int isParameter ) { return (( isClassOrInterfaceInstantiation ) isNameExpr . isMethod ( isNameExpr )). isMethod (); }  /** * isComment */ public isClassOrInterfaceInstantiation < isClassOrInterfaceInstantiation > isMethod () { isClassOrInterfaceInstantiation < isClassOrInterfaceInstantiation > isVariable = new isClassOrInterfaceInstantiation < isClassOrInterfaceInstantiation >(); for ( isClassOrInterfaceInstantiation isVariable : isNameExpr ) { if ( isNameExpr instanceof isClassOrInterfaceInstantiation ) { isNameExpr . isMethod ((( isClassOrInterfaceInstantiation ) isNameExpr ). isMethod ()); } } return isNameExpr ; }  /** * isComment */ public void isMethod ( boolean isParameter ) { this . isFieldAccessExpr = isNameExpr ; }  /** * isComment */ public boolean isMethod () { return isNameExpr ; }  /** * isComment */ public void isMethod ( float isParameter ) { isNameExpr = ( int ) isMethod ( isMethod (), isNameExpr ); isMethod (); }  /** * isComment */ public int isMethod () { return isNameExpr ; }  /** * isComment */ public void isMethod ( float isParameter ) { isNameExpr = ( int ) isMethod ( isMethod (), isNameExpr ); isMethod (); }  /** * isComment */ public int isMethod () { return isNameExpr ; }  /** * isComment */ public float isMethod () { return isNameExpr ; }  /** * isComment */ public void isMethod ( float isParameter ) { this . isFieldAccessExpr = isNameExpr ; }  /** * isComment */ public float isMethod () { return isNameExpr ; }  /** * isComment */ public void isMethod ( float isParameter ) { this . isFieldAccessExpr = isNameExpr ; }  /** * isComment */ public int isMethod () { return isNameExpr ; }  /** * isComment */ public void isMethod ( int isParameter ) { this . isFieldAccessExpr = isNameExpr ; }  /** * isComment */ public int isMethod () { return isNameExpr ; }  /** * isComment */ public void isMethod ( int isParameter ) { this . isFieldAccessExpr = isNameExpr ; }  /** * isComment */ public int isMethod () { return isNameExpr ; }  /** * isComment */ public void isMethod ( int isParameter ) { this . isFieldAccessExpr = isNameExpr ; }  /** * isComment */ public float isMethod () { return isNameExpr ; }  /** * isComment */ public void isMethod ( float isParameter ) { this . isFieldAccessExpr = isNameExpr ; }  /** * isComment */ public void isMethod ( int isParameter ) { isNameExpr = isNameExpr ; isMethod (); }  /** * isComment */ public int isMethod () { return isNameExpr ; }  /** * isComment */ public void isMethod ( int isParameter ) { isNameExpr = isNameExpr < isNameExpr ? isNameExpr : isNameExpr ; }  /** * isComment */ public int isMethod () { return isNameExpr ; }  /** * isComment */ public void isMethod ( int isParameter ) { isNameExpr = isNameExpr ; }  /** * isComment */ public int isMethod () { return isNameExpr ; }  /** * isComment */ public boolean isMethod () { return isNameExpr ; }  /** * isComment */ public void isMethod ( boolean isParameter ) { this . isFieldAccessExpr = isNameExpr ; }  /** * isComment */ public float isMethod () { return isNameExpr ; }  /** * isComment */ public void isMethod ( float isParameter ) { this . isFieldAccessExpr = isNameExpr ; }  /** * isComment */ public float isMethod () { return isNameExpr ; }  /** * isComment */ public void isMethod ( float isParameter ) { this . isFieldAccessExpr = isNameExpr ; }  /** * isComment */ public float isMethod () { return isNameExpr ; }  /** * isComment */ public void isMethod ( float isParameter ) { this . isFieldAccessExpr = isNameExpr ; }  /** * isComment */ public int isMethod () { return isNameExpr ; }  /** * isComment */ public void isMethod ( int isParameter ) { int isVariable = isMethod (); this . isFieldAccessExpr = isNameExpr < isNameExpr ? isNameExpr : isNameExpr ; }  /** * isComment */ public int isMethod () { return isNameExpr ; }  /** * isComment */ public void isMethod ( int isParameter ) { int isVariable = isMethod (); this . isFieldAccessExpr = isNameExpr < isNameExpr ? isNameExpr : isNameExpr ; }  /** * isComment */ public int isMethod () { return isNameExpr ; }  /** * isComment */ public void isMethod ( int isParameter ) { this . isFieldAccessExpr = isNameExpr ; }  /** * isComment */ public int isMethod () { return isNameExpr ; }  /** * isComment */ public void isMethod ( int isParameter ) { this . isFieldAccessExpr = isNameExpr ; }  /** * isComment */ public int isMethod () { return isNameExpr ; }  /** * isComment */ public void isMethod ( int isParameter ) { this . isFieldAccessExpr = isNameExpr ; }  /** * isComment */ public isClassOrInterfaceInstantiation isMethod () { return isNameExpr ; }  /** * isComment */ public void isMethod ( isClassOrInterfaceInstantiation isParameter ) { this . isFieldAccessExpr = isNameExpr ; }  /** * isComment */ public int isMethod () { return isNameExpr ; }  /** * isComment */ public void isMethod ( int isParameter ) { this . isFieldAccessExpr = isNameExpr ; }  /** * isComment */ public int isMethod () { return isNameExpr ; }  /** * isComment */ public void isMethod ( int isParameter ) { this . isFieldAccessExpr = isNameExpr ; }  /** * isComment */ public int isMethod () { return isNameExpr ; }  /** * isComment */ public void isMethod ( int isParameter ) { this . isFieldAccessExpr = isNameExpr ; }  /** * isComment */ public int isMethod () { return isNameExpr ; }  /** * isComment */ public void isMethod ( int isParameter ) { this . isFieldAccessExpr = isNameExpr ; }  /** * isComment */ public int isMethod () { return isNameExpr ; }  /** * isComment */ public void isMethod ( int isParameter ) { this . isFieldAccessExpr = isNameExpr ; }  /** * isComment */ public float isMethod () { return isNameExpr ; }  /** * isComment */ public void isMethod ( float isParameter ) { this . isFieldAccessExpr = isNameExpr ; }  /** * isComment */ public boolean isMethod () { return isNameExpr ; }  /** * isComment */ public void isMethod ( boolean isParameter ) { this . isFieldAccessExpr = isNameExpr ; }  /** * isComment */ public float isMethod () { return isNameExpr ; }  /** * isComment */ public void isMethod ( float isParameter ) { this . isFieldAccessExpr = isNameExpr ; }  /** * isComment */ public float isMethod () { return isNameExpr ; }  /** * isComment */ public void isMethod ( float isParameter ) { this . isFieldAccessExpr = isNameExpr ; }  public float isMethod ( isClassOrInterfaceInstantiation isParameter , float isParameter ) { final float isVariable = isNameExpr . isMethod (). isMethod (). isFieldAccessExpr ; return isNameExpr * isNameExpr + isDoubleConstant ; }  public float isMethod ( isClassOrInterfaceInstantiation isParameter , float isParameter ) { final float isVariable = isNameExpr . isMethod (). isMethod (). isFieldAccessExpr ; return isNameExpr * isNameExpr ; } }'"
      ]
     },
     "execution_count": 8,
     "metadata": {},
     "output_type": "execute_result"
    }
   ],
   "source": [
    "df[\"source_code\"].values[0]"
   ]
  },
  {
   "cell_type": "code",
   "execution_count": null,
   "metadata": {},
   "outputs": [],
   "source": [
    "labels = list(set(df['target'].values))\n",
    "    X = []\n",
    "    Y = []\n",
    "\n",
    "    print(\"Preparing lists...\")\n",
    "    for index, row in df.iterrows():\n",
    "        X.append(row[\"source_code\"])\n",
    "        Y.append(row[\"target\"])\n",
    "\n",
    "    encoder = LabelEncoder()\n",
    "    encoder.fit(Y)\n",
    "    encoded_Y = encoder.transform(Y)\n",
    "    y_binary = to_categorical(encoded_Y)\n",
    "\n",
    "    X_train, X_test, y_train, y_test = train_test_split(X, y_binary, train_size = 0.80, random_state=42)\n",
    "\n",
    "    vocab, max_length = find_vocab_size(X)\n",
    "\n",
    "    vocab_size = len(vocab) + 100\n",
    "    encoded_docs_train = [one_hot(d, vocab_size) for d in X_train]\n",
    "    padded_docs_train = pad_sequences(encoded_docs_train, maxlen=max_length, padding='post')\n",
    "\n",
    "    encoded_docs_test = [one_hot(d, vocab_size) for d in X_test]\n",
    "    padded_docs_test = pad_sequences(encoded_docs_test, maxlen=max_length, padding='post')\n",
    "\n",
    "    model = Sequential()\n",
    "    # input\n",
    "    model.add(Embedding(vocab_size, 128, input_length=max_length))    \n",
    "    model.add(SpatialDropout1D(0.2))\n",
    "    # convolutional\n",
    "    model.add(Conv1D(filters=64, kernel_size=5, activation='relu'))\n",
    "    model.add(MaxPooling1D(pool_size=2))\n",
    "    model.add(LSTM(64))\n",
    "    model.add(Dense(64, activation=\"relu\"))\n",
    "    model.add(Dropout(0.2))\n",
    "    model.add(Dense(y_binary.shape[1], activation='softmax'))\n",
    "    # compile the model\n",
    "    model.compile(optimizer='adam', loss='categorical_crossentropy', metrics=['accuracy'])\n",
    "    # summarize the model\n",
    "    print('################# Model ###############')\n",
    "    print(model.summary())\n",
    "\n",
    "    model.fit(padded_docs_train, y_train, epochs=10, verbose=1, validation_split=0.2, callbacks=callback_list)\n",
    "    # evaluate the model\n",
    "    loss, accuracy = model.evaluate(padded_docs_test, y_test, verbose=1)\n",
    "    print('Accuracy: %f' % (accuracy*100))"
   ]
  },
  {
   "cell_type": "code",
   "execution_count": null,
   "metadata": {},
   "outputs": [],
   "source": []
  }
 ],
 "metadata": {
  "kernelspec": {
   "display_name": "Python 3",
   "language": "python",
   "name": "python3"
  },
  "language_info": {
   "codemirror_mode": {
    "name": "ipython",
    "version": 3
   },
   "file_extension": ".py",
   "mimetype": "text/x-python",
   "name": "python",
   "nbconvert_exporter": "python",
   "pygments_lexer": "ipython3",
   "version": "3.6.8"
  }
 },
 "nbformat": 4,
 "nbformat_minor": 2
}
