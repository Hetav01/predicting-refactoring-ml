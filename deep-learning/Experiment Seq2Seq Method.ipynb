{
 "cells": [
  {
   "cell_type": "markdown",
   "metadata": {},
   "source": [
    "# Sequence2Sequence experiments\n",
    "\n",
    "Seguindo a ideia em https://blog.keras.io/a-ten-minute-introduction-to-sequence-to-sequence-learning-in-keras.html cada linha do código fonte é alinhada com sua possível refatoração:\n",
    "\n",
    "import example            no\n",
    "//comment                 no\n",
    "public class HelloWorld { no\n",
    "                          no\n",
    "public void method1() {   no\n",
    "System.out.print(\"\");     no\n",
    "}                         no\n",
    "                          no\n",
    "public void method2() {   Rename_Method\n",
    "System.out.print(\"\");     no\n",
    "}                         no\n",
    "}                         no\n",
    "\n",
    "Como um código fonte deve ser uma sequência a ser mapeada para outra sequencia (rótulos das refatorações), ele é tokenizado e linearizado. Para manter a indicação das linhas, o token \"NEWLINE\" é adicionado a cada quebra de linha:\n",
    "\n",
    "```import example NEWLINE //comment NEWLINE public class HelloWorld { NEWLINE public void method1 ( ) { NEWLINE System . out . print (\" \") ; NEWLINE } NEWLINE  NEWLINE public void method2 ( ) { NEWLINE System . out . print (\" \") ; NEWLINE } NEWLINE } NEWLINE }```\n",
    "\n",
    "que será mapeado para \n",
    "\n",
    "```no NEWLINE no NEWLINE no NEWLINE no NEWLINE no NEWLINE no NEWLINE no NEWLINE no NEWLINE Rename_Method NEWLINE no NEWLINE no NEWLINE no NEWLINE``` "
   ]
  },
  {
   "cell_type": "code",
   "execution_count": null,
   "metadata": {},
   "outputs": [],
   "source": [
    "import pandas as pd\n",
    "import numpy as np\n",
    "import nltk"
   ]
  },
  {
   "cell_type": "code",
   "execution_count": null,
   "metadata": {},
   "outputs": [],
   "source": [
    "df_yes_method = pd.read_csv('../data/root/output/commons-csv/yes-method.csv')\n",
    "df_targets = pd.read_csv('../data/root/output/commons-csv/yes.csv')\n",
    "\n",
    "df_yes_method[\"refactoring\"] = None"
   ]
  },
  {
   "cell_type": "code",
   "execution_count": null,
   "metadata": {},
   "outputs": [],
   "source": [
    "def get_refactoring_row(row):\n",
    "    return df_targets[(df_targets.dataset == row[\"dataset\"]) & (df_targets.project == row[\"project\"]) &\\\n",
    "                      (df_targets.parentCommit == row[\"refactorCommit\"]) & (df_targets.method == row[\"method\"])]\n",
    "\n",
    "def tokenize_line(line):\n",
    "    return ' '.join(nltk.tokenize.wordpunct_tokenize(line))\n",
    "\n",
    "def get_file_lines(row):\n",
    "    with open('../data/root/output/{}/storage/{}/before-refactoring/{}'.format(row[\"project\"].replace(\".git\", \"\"),\n",
    "                                                                           row[\"refactorCommit\"],\n",
    "                                                                           row[\"path\"]), 'r') as text_file:\n",
    "        lines = text_file.readlines()\n",
    "        lines = [tokenize_line(line) for line in lines]\n",
    "        return lines\n",
    "\n",
    "def label_file(row, label):\n",
    "    hash_label = \"{}-{}-{}\".format(row[\"project\"], row[\"refactorCommit\"], row[\"path\"])\n",
    "    if hash_label not in trainset:\n",
    "        lines = get_file_lines(row)\n",
    "        labels = ['no' for line in lines]\n",
    "    else:\n",
    "        lines = trainset[hash_label]['lines']\n",
    "        labels = trainset[hash_label]['labels']\n",
    "    try:\n",
    "        labels[row['line'] - 1] = label\n",
    "    except:\n",
    "        print(labels)\n",
    "    trainset[hash_label] = {'lines': lines, 'labels': labels}        "
   ]
  },
  {
   "cell_type": "code",
   "execution_count": null,
   "metadata": {},
   "outputs": [],
   "source": [
    "trainset = {} # hash_label = project-parentCommit-path"
   ]
  },
  {
   "cell_type": "code",
   "execution_count": null,
   "metadata": {
    "scrolled": false
   },
   "outputs": [],
   "source": [
    "for index, row in df_yes_method.iterrows():\n",
    "    if 'Test.java' not in row[\"path\"]:\n",
    "        refactoring_row = get_refactoring_row(row)\n",
    "        if len(refactoring_row[\"refactoring\"]) > 0:\n",
    "            label = list(refactoring_row[\"refactoring\"])[0]\n",
    "            label_file(row, label.replace(\" \",\"_\"))"
   ]
  },
  {
   "cell_type": "code",
   "execution_count": null,
   "metadata": {},
   "outputs": [],
   "source": [
    "from keras.models import Model\n",
    "from keras.layers import Input, LSTM, Dense\n",
    "import numpy as np"
   ]
  },
  {
   "cell_type": "code",
   "execution_count": null,
   "metadata": {},
   "outputs": [],
   "source": [
    "input_source_codes = []\n",
    "target_source_codes = []\n",
    "input_tokens = set()\n",
    "target_tokens = set()\n",
    "linear_source_codes = []\n",
    "linear_targets = []\n",
    "\n",
    "for hash_label, data in trainset.items():\n",
    "    input_source_codes.append(data['lines'])\n",
    "    target_source_codes.append(data['labels'])\n",
    "    for source_code_lines in input_source_codes:\n",
    "        linear_source_code = ' NEWLINE '.join(source_code_lines)\n",
    "        linear_source_codes.append(linear_source_code)\n",
    "        tokens = linear_source_code.split()\n",
    "        for token in tokens:\n",
    "            if token not in input_tokens:\n",
    "                input_tokens.add(token)\n",
    "    for target_list in target_source_codes:\n",
    "        linear_target = ' NEWLINE '.join(target_list)\n",
    "        linear_targets.append(linear_target)\n",
    "        tokens = linear_target.split()\n",
    "        for token in tokens:\n",
    "            if token not in target_tokens:\n",
    "                target_tokens.add(token)"
   ]
  },
  {
   "cell_type": "code",
   "execution_count": null,
   "metadata": {},
   "outputs": [],
   "source": [
    "input_tokens = sorted(list(input_tokens))\n",
    "target_tokens = sorted(list(target_tokens))\n",
    "num_encoder_tokens = len(input_tokens)\n",
    "num_decoder_tokens = len(target_tokens)\n",
    "max_encoder_seq_length = max([len(txt) for txt in linear_source_codes])\n",
    "max_decoder_seq_length = max([len(txt) for txt in linear_targets])\n",
    "\n",
    "print('Number of samples:', len(linear_source_codes))\n",
    "print('Number of unique input tokens:', num_encoder_tokens)\n",
    "print('Number of unique output tokens:', num_decoder_tokens)\n",
    "print('Max sequence length for inputs:', max_encoder_seq_length)\n",
    "print('Max sequence length for outputs:', max_decoder_seq_length)"
   ]
  },
  {
   "cell_type": "code",
   "execution_count": null,
   "metadata": {},
   "outputs": [],
   "source": [
    "input_token_index = dict(\n",
    "    [(char, i) for i, char in enumerate(input_tokens)])\n",
    "target_token_index = dict(\n",
    "    [(char, i) for i, char in enumerate(target_tokens)])\n",
    "\n",
    "encoder_input_data = np.zeros(\n",
    "    (len(linear_source_codes), max_encoder_seq_length, num_encoder_tokens),\n",
    "    dtype='float32')\n",
    "decoder_input_data = np.zeros(\n",
    "    (len(linear_source_codes), max_decoder_seq_length, num_decoder_tokens),\n",
    "    dtype='float32')\n",
    "decoder_target_data = np.zeros(\n",
    "    (len(linear_source_codes), max_decoder_seq_length, num_decoder_tokens),\n",
    "    dtype='float32')"
   ]
  },
  {
   "cell_type": "code",
   "execution_count": null,
   "metadata": {},
   "outputs": [],
   "source": [
    "target_token_index"
   ]
  },
  {
   "cell_type": "code",
   "execution_count": null,
   "metadata": {},
   "outputs": [],
   "source": [
    "for i, (linear_source_code, linear_target) in enumerate(zip(linear_source_codes, linear_targets)):\n",
    "    for t, token in enumerate(linear_source_code.split()):\n",
    "        encoder_input_data[i, t, input_token_index[token]] = 1.\n",
    "    for t, token in enumerate(linear_target.split()):\n",
    "        # decoder_target_data is ahead of decoder_input_data by one timestep\n",
    "        decoder_input_data[i, t, target_token_index[token]] = 1.\n",
    "        if t > 0:\n",
    "            # decoder_target_data will be ahead by one timestep\n",
    "            # and will not include the start character.\n",
    "            decoder_target_data[i, t - 1, target_token_index[token]] = 1."
   ]
  },
  {
   "cell_type": "code",
   "execution_count": null,
   "metadata": {},
   "outputs": [],
   "source": [
    "batch_size = 5  # Batch size for training.\n",
    "epochs = 10  # Number of epochs to train for.\n",
    "latent_dim = 128  # Latent dimensionality of the encoding space.\n",
    "\n",
    "# Define an input sequence and process it.\n",
    "encoder_inputs = Input(shape=(None, num_encoder_tokens))\n",
    "encoder = LSTM(latent_dim, return_state=True)\n",
    "encoder_outputs, state_h, state_c = encoder(encoder_inputs)\n",
    "# We discard `encoder_outputs` and only keep the states.\n",
    "encoder_states = [state_h, state_c]\n",
    "\n",
    "# Set up the decoder, using `encoder_states` as initial state.\n",
    "decoder_inputs = Input(shape=(None, num_decoder_tokens))\n",
    "# We set up our decoder to return full output sequences,\n",
    "# and to return internal states as well. We don't use the\n",
    "# return states in the training model, but we will use them in inference.\n",
    "decoder_lstm = LSTM(latent_dim, return_sequences=True, return_state=True)\n",
    "decoder_outputs, _, _ = decoder_lstm(decoder_inputs,\n",
    "                                     initial_state=encoder_states)\n",
    "decoder_dense = Dense(num_decoder_tokens, activation='softmax')\n",
    "decoder_outputs = decoder_dense(decoder_outputs)\n",
    "\n",
    "# Define the model that will turn\n",
    "# `encoder_input_data` & `decoder_input_data` into `decoder_target_data`\n",
    "model = Model([encoder_inputs, decoder_inputs], decoder_outputs)\n",
    "\n",
    "# Run training\n",
    "model.compile(optimizer='rmsprop', loss='categorical_crossentropy')"
   ]
  },
  {
   "cell_type": "code",
   "execution_count": null,
   "metadata": {},
   "outputs": [],
   "source": [
    "model.fit([encoder_input_data, decoder_input_data], decoder_target_data,\n",
    "          batch_size=batch_size,\n",
    "          epochs=epochs,\n",
    "          validation_split=0.2)\n",
    "# Save model\n",
    "model.save('s2s.h5')"
   ]
  },
  {
   "cell_type": "markdown",
   "metadata": {},
   "source": [
    "# inference mode"
   ]
  },
  {
   "cell_type": "code",
   "execution_count": null,
   "metadata": {},
   "outputs": [],
   "source": [
    "encoder_model = Model(encoder_inputs, encoder_states)\n",
    "\n",
    "decoder_state_input_h = Input(shape=(latent_dim,))\n",
    "decoder_state_input_c = Input(shape=(latent_dim,))\n",
    "decoder_states_inputs = [decoder_state_input_h, decoder_state_input_c]\n",
    "decoder_outputs, state_h, state_c = decoder_lstm(\n",
    "    decoder_inputs, initial_state=decoder_states_inputs)\n",
    "decoder_states = [state_h, state_c]\n",
    "decoder_outputs = decoder_dense(decoder_outputs)\n",
    "decoder_model = Model(\n",
    "    [decoder_inputs] + decoder_states_inputs,\n",
    "    [decoder_outputs] + decoder_states)\n",
    "\n",
    "# Reverse-lookup token index to decode sequences back to\n",
    "# something readable.\n",
    "reverse_input_token_index = dict(\n",
    "    (i, char) for char, i in input_token_index.items())\n",
    "reverse_target_token_index = dict(\n",
    "    (i, char) for char, i in target_token_index.items())"
   ]
  },
  {
   "cell_type": "code",
   "execution_count": null,
   "metadata": {
    "scrolled": false
   },
   "outputs": [],
   "source": [
    "def decode_sequence(input_seq):\n",
    "    # Encode the input as state vectors.\n",
    "    states_value = encoder_model.predict(input_seq)\n",
    "\n",
    "    # Generate empty target sequence of length 1.\n",
    "    target_seq = np.zeros((1, 1, num_decoder_tokens))\n",
    "    # Populate the first character of target sequence with the start character.\n",
    "    target_seq[0, 0, target_token_index['NEWLINE']] = 1.\n",
    "\n",
    "    # Sampling loop for a batch of sequences\n",
    "    # (to simplify, here we assume a batch of size 1).\n",
    "    stop_condition = False\n",
    "    decoded_sentence = ''\n",
    "    while not stop_condition:\n",
    "        output_tokens, h, c = decoder_model.predict(\n",
    "            [target_seq] + states_value)\n",
    "\n",
    "        # Sample a token\n",
    "        sampled_token_index = np.argmax(output_tokens[0, -1, :])\n",
    "        sampled_char = reverse_target_token_index[sampled_token_index]\n",
    "        decoded_sentence += sampled_char\n",
    "\n",
    "        # Exit condition: either hit max length\n",
    "        # or find stop character.\n",
    "        if (sampled_char == '\\n' or\n",
    "           len(decoded_sentence) > max_decoder_seq_length):\n",
    "            stop_condition = True\n",
    "\n",
    "        # Update the target sequence (of length 1).\n",
    "        target_seq = np.zeros((1, 1, num_decoder_tokens))\n",
    "        target_seq[0, 0, sampled_token_index] = 1.\n",
    "\n",
    "        # Update states\n",
    "        states_value = [h, c]\n",
    "\n",
    "    return decoded_sentence\n",
    "\n",
    "\n",
    "for seq_index in range(2):\n",
    "    # Take one sequence (part of the training set)\n",
    "    # for trying out decoding.\n",
    "    input_seq = encoder_input_data[seq_index: seq_index + 1]\n",
    "    decoded_sentence = decode_sequence(input_seq)\n",
    "    print('-')\n",
    "    print('Input sentence:', linear_source_codes[seq_index])\n",
    "    print('Decoded sentence:', decoded_sentence)"
   ]
  },
  {
   "cell_type": "code",
   "execution_count": null,
   "metadata": {},
   "outputs": [],
   "source": []
  }
 ],
 "metadata": {
  "kernelspec": {
   "display_name": "Python 3",
   "language": "python",
   "name": "python3"
  },
  "language_info": {
   "codemirror_mode": {
    "name": "ipython",
    "version": 3
   },
   "file_extension": ".py",
   "mimetype": "text/x-python",
   "name": "python",
   "nbconvert_exporter": "python",
   "pygments_lexer": "ipython3",
   "version": "3.6.8"
  }
 },
 "nbformat": 4,
 "nbformat_minor": 2
}
